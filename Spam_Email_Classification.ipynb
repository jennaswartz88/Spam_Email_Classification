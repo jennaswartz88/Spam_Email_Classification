{
 "cells": [
  {
   "cell_type": "markdown",
   "metadata": {
    "id": "GrdSTb2xdFJt"
   },
   "source": [
    "#Spam Email Classification\n",
    "##Machine Learning HW 3\n",
    "###Jenna Swartz"
   ]
  },
  {
   "cell_type": "code",
   "execution_count": 40,
   "metadata": {
    "id": "rE7KSYexc236"
   },
   "outputs": [],
   "source": [
    "#Import Python Libraries\n",
    "import numpy as np\n",
    "import scipy as sp\n",
    "import pandas as pd\n",
    "import matplotlib.pyplot as plt\n",
    "import seaborn as sns\n",
    "import statsmodels.api as sm\n",
    "import statsmodels.formula.api as smf\n",
    "import os\n",
    "\n",
    "from sklearn.model_selection import train_test_split\n",
    "from sklearn.linear_model import LinearRegression\n",
    "from sklearn.linear_model import Ridge\n",
    "from sklearn.linear_model import Lasso\n",
    "from sklearn.neighbors import KNeighborsRegressor\n",
    "from sklearn.model_selection import cross_val_score\n",
    "from sklearn.preprocessing import StandardScaler\n",
    "\n",
    "from sklearn.pipeline import make_pipeline\n",
    "from sklearn.model_selection import GridSearchCV\n",
    "from sklearn.linear_model import LogisticRegression\n",
    "from sklearn.neighbors import KNeighborsClassifier\n",
    "from sklearn.tree import DecisionTreeClassifier\n",
    "from sklearn.ensemble import RandomForestClassifier"
   ]
  },
  {
   "cell_type": "markdown",
   "metadata": {
    "id": "3UE_99KYdnIa"
   },
   "source": [
    "## Part A\n",
    "\n",
    "A1 -- *Describe the importance of training and test data.  Why do we separate data into these subsets?*\n",
    "\n",
    "It is important to separate data in training and test data so we can analyze a model's predictive power by fitting/training it on the training data and testing it on testing data. This helps to avoid overfitting of the model, because it prevents the model from just fitting to one group of data (which could capture trends in the data but also noise in that group of data). Instead, the model learns patterns and relationships and tries to minimize error from the training data and we make sure the model generalizes well to new data that it has not seen before."
   ]
  },
  {
   "cell_type": "markdown",
   "metadata": {
    "id": "wHvjsP39gI_1"
   },
   "source": [
    "A2 -- *What is k-fold cross validation and what do we use it for?*\n",
    "\n",
    "K-fold cross validation is used to maximize the training and testing capacity of the dataset we have by taking different \"cuts\" every time we split the data up into training and test data. In other words, we take k-1 folds for training and the other 1 fold for testing each time, but we rotate which fold is tested each time so eventually, we are able to test each of the k folds as the testing data. Technically the training and testing sets are different each time, so in a way, so we are using slightly different testing and training sets each time which allows us to compare performance between the different rounds/splits and we can also average the results from all these splits."
   ]
  },
  {
   "cell_type": "markdown",
   "metadata": {
    "id": "CvBF3MH5hxeB"
   },
   "source": [
    "A3 -- *How is k-fold cross validation different from stratified k-fold cross validation?*\n",
    "\n",
    "Stratified k-fold cross validation is appropriate when we have \"classes\" in our dataset that we know about, and this technique is especially helpful when the amount of data in each class is uneven. For example, let's say we have 80 men and 20 women in our dataset. If we just used normal cross validation, we might be accidentally using all/most the men for our training dataset and all/most the women for our testing dataset, which could result in very imbalanced split and poor performance on our testing data. Instead, with stratified cross validation, we would randomnly select, say, 5 women and 20 men for each group split so we maintain the same proportion of each class that we have in the original dataset to test and train on a more accurate subset of the broader dataset."
   ]
  },
  {
   "cell_type": "markdown",
   "metadata": {
    "id": "Muue0B8qlWr5"
   },
   "source": [
    "A4 -- *Name the 4 types of supervised learning models that we have learned thus far that are used to predict categorical dependent variables like whether an email is labeled “spam” or “not spam.”*\n",
    "\n",
    "KNN, Logistic Regression (Both Penalized and Regular), Support Vector Machines, Decision Trees/Random Forests"
   ]
  },
  {
   "cell_type": "markdown",
   "metadata": {
    "id": "p-KkeF5foyqW"
   },
   "source": [
    "A5 -- *Name the 3 types of supervised learning models that we have learned thus far that are used to predict continuous dependent variables like test scores.*\n",
    "\n",
    "KNN, Linear Regression (both penalized and regular), and Decision Trees/Random Forests"
   ]
  },
  {
   "cell_type": "markdown",
   "metadata": {
    "id": "hgxCbZg-r155"
   },
   "source": [
    "## Part B\n",
    "\n",
    "B1 -- *Import the spam dataset and print the first six rows.*"
   ]
  },
  {
   "cell_type": "code",
   "execution_count": 41,
   "metadata": {
    "colab": {
     "base_uri": "https://localhost:8080/",
     "height": 287
    },
    "id": "Tk7gNHUbszSE",
    "outputId": "280478c8-5e56-475f-edfc-cc7f2aa30300"
   },
   "outputs": [
    {
     "data": {
      "application/vnd.google.colaboratory.intrinsic+json": {
       "type": "dataframe",
       "variable_name": "df"
      },
      "text/html": [
       "\n",
       "  <div id=\"df-09d6580f-2442-4d73-bb28-cebba8b5bf3c\" class=\"colab-df-container\">\n",
       "    <div>\n",
       "<style scoped>\n",
       "    .dataframe tbody tr th:only-of-type {\n",
       "        vertical-align: middle;\n",
       "    }\n",
       "\n",
       "    .dataframe tbody tr th {\n",
       "        vertical-align: top;\n",
       "    }\n",
       "\n",
       "    .dataframe thead th {\n",
       "        text-align: right;\n",
       "    }\n",
       "</style>\n",
       "<table border=\"1\" class=\"dataframe\">\n",
       "  <thead>\n",
       "    <tr style=\"text-align: right;\">\n",
       "      <th></th>\n",
       "      <th>word_freq_make:</th>\n",
       "      <th>word_freq_address:</th>\n",
       "      <th>word_freq_all:</th>\n",
       "      <th>word_freq_3d:</th>\n",
       "      <th>word_freq_our:</th>\n",
       "      <th>word_freq_over:</th>\n",
       "      <th>word_freq_remove:</th>\n",
       "      <th>word_freq_internet:</th>\n",
       "      <th>word_freq_order:</th>\n",
       "      <th>word_freq_mail:</th>\n",
       "      <th>...</th>\n",
       "      <th>char_freq_;:</th>\n",
       "      <th>char_freq_(:</th>\n",
       "      <th>char_freq_[:</th>\n",
       "      <th>char_freq_!:</th>\n",
       "      <th>char_freq_$:</th>\n",
       "      <th>char_freq_#:</th>\n",
       "      <th>capital_run_length_average:</th>\n",
       "      <th>capital_run_length_longest:</th>\n",
       "      <th>capital_run_length_total:</th>\n",
       "      <th>spam</th>\n",
       "    </tr>\n",
       "  </thead>\n",
       "  <tbody>\n",
       "    <tr>\n",
       "      <th>0</th>\n",
       "      <td>0.00</td>\n",
       "      <td>0.64</td>\n",
       "      <td>0.64</td>\n",
       "      <td>0.0</td>\n",
       "      <td>0.32</td>\n",
       "      <td>0.00</td>\n",
       "      <td>0.00</td>\n",
       "      <td>0.00</td>\n",
       "      <td>0.00</td>\n",
       "      <td>0.00</td>\n",
       "      <td>...</td>\n",
       "      <td>0.00</td>\n",
       "      <td>0.000</td>\n",
       "      <td>0.0</td>\n",
       "      <td>0.778</td>\n",
       "      <td>0.000</td>\n",
       "      <td>0.000</td>\n",
       "      <td>3.756</td>\n",
       "      <td>61</td>\n",
       "      <td>278</td>\n",
       "      <td>1</td>\n",
       "    </tr>\n",
       "    <tr>\n",
       "      <th>1</th>\n",
       "      <td>0.21</td>\n",
       "      <td>0.28</td>\n",
       "      <td>0.50</td>\n",
       "      <td>0.0</td>\n",
       "      <td>0.14</td>\n",
       "      <td>0.28</td>\n",
       "      <td>0.21</td>\n",
       "      <td>0.07</td>\n",
       "      <td>0.00</td>\n",
       "      <td>0.94</td>\n",
       "      <td>...</td>\n",
       "      <td>0.00</td>\n",
       "      <td>0.132</td>\n",
       "      <td>0.0</td>\n",
       "      <td>0.372</td>\n",
       "      <td>0.180</td>\n",
       "      <td>0.048</td>\n",
       "      <td>5.114</td>\n",
       "      <td>101</td>\n",
       "      <td>1028</td>\n",
       "      <td>1</td>\n",
       "    </tr>\n",
       "    <tr>\n",
       "      <th>2</th>\n",
       "      <td>0.06</td>\n",
       "      <td>0.00</td>\n",
       "      <td>0.71</td>\n",
       "      <td>0.0</td>\n",
       "      <td>1.23</td>\n",
       "      <td>0.19</td>\n",
       "      <td>0.19</td>\n",
       "      <td>0.12</td>\n",
       "      <td>0.64</td>\n",
       "      <td>0.25</td>\n",
       "      <td>...</td>\n",
       "      <td>0.01</td>\n",
       "      <td>0.143</td>\n",
       "      <td>0.0</td>\n",
       "      <td>0.276</td>\n",
       "      <td>0.184</td>\n",
       "      <td>0.010</td>\n",
       "      <td>9.821</td>\n",
       "      <td>485</td>\n",
       "      <td>2259</td>\n",
       "      <td>1</td>\n",
       "    </tr>\n",
       "    <tr>\n",
       "      <th>3</th>\n",
       "      <td>0.00</td>\n",
       "      <td>0.00</td>\n",
       "      <td>0.00</td>\n",
       "      <td>0.0</td>\n",
       "      <td>0.63</td>\n",
       "      <td>0.00</td>\n",
       "      <td>0.31</td>\n",
       "      <td>0.63</td>\n",
       "      <td>0.31</td>\n",
       "      <td>0.63</td>\n",
       "      <td>...</td>\n",
       "      <td>0.00</td>\n",
       "      <td>0.137</td>\n",
       "      <td>0.0</td>\n",
       "      <td>0.137</td>\n",
       "      <td>0.000</td>\n",
       "      <td>0.000</td>\n",
       "      <td>3.537</td>\n",
       "      <td>40</td>\n",
       "      <td>191</td>\n",
       "      <td>1</td>\n",
       "    </tr>\n",
       "    <tr>\n",
       "      <th>4</th>\n",
       "      <td>0.00</td>\n",
       "      <td>0.00</td>\n",
       "      <td>0.00</td>\n",
       "      <td>0.0</td>\n",
       "      <td>0.63</td>\n",
       "      <td>0.00</td>\n",
       "      <td>0.31</td>\n",
       "      <td>0.63</td>\n",
       "      <td>0.31</td>\n",
       "      <td>0.63</td>\n",
       "      <td>...</td>\n",
       "      <td>0.00</td>\n",
       "      <td>0.135</td>\n",
       "      <td>0.0</td>\n",
       "      <td>0.135</td>\n",
       "      <td>0.000</td>\n",
       "      <td>0.000</td>\n",
       "      <td>3.537</td>\n",
       "      <td>40</td>\n",
       "      <td>191</td>\n",
       "      <td>1</td>\n",
       "    </tr>\n",
       "    <tr>\n",
       "      <th>5</th>\n",
       "      <td>0.00</td>\n",
       "      <td>0.00</td>\n",
       "      <td>0.00</td>\n",
       "      <td>0.0</td>\n",
       "      <td>1.85</td>\n",
       "      <td>0.00</td>\n",
       "      <td>0.00</td>\n",
       "      <td>1.85</td>\n",
       "      <td>0.00</td>\n",
       "      <td>0.00</td>\n",
       "      <td>...</td>\n",
       "      <td>0.00</td>\n",
       "      <td>0.223</td>\n",
       "      <td>0.0</td>\n",
       "      <td>0.000</td>\n",
       "      <td>0.000</td>\n",
       "      <td>0.000</td>\n",
       "      <td>3.000</td>\n",
       "      <td>15</td>\n",
       "      <td>54</td>\n",
       "      <td>1</td>\n",
       "    </tr>\n",
       "  </tbody>\n",
       "</table>\n",
       "<p>6 rows × 58 columns</p>\n",
       "</div>\n",
       "    <div class=\"colab-df-buttons\">\n",
       "\n",
       "  <div class=\"colab-df-container\">\n",
       "    <button class=\"colab-df-convert\" onclick=\"convertToInteractive('df-09d6580f-2442-4d73-bb28-cebba8b5bf3c')\"\n",
       "            title=\"Convert this dataframe to an interactive table.\"\n",
       "            style=\"display:none;\">\n",
       "\n",
       "  <svg xmlns=\"http://www.w3.org/2000/svg\" height=\"24px\" viewBox=\"0 -960 960 960\">\n",
       "    <path d=\"M120-120v-720h720v720H120Zm60-500h600v-160H180v160Zm220 220h160v-160H400v160Zm0 220h160v-160H400v160ZM180-400h160v-160H180v160Zm440 0h160v-160H620v160ZM180-180h160v-160H180v160Zm440 0h160v-160H620v160Z\"/>\n",
       "  </svg>\n",
       "    </button>\n",
       "\n",
       "  <style>\n",
       "    .colab-df-container {\n",
       "      display:flex;\n",
       "      gap: 12px;\n",
       "    }\n",
       "\n",
       "    .colab-df-convert {\n",
       "      background-color: #E8F0FE;\n",
       "      border: none;\n",
       "      border-radius: 50%;\n",
       "      cursor: pointer;\n",
       "      display: none;\n",
       "      fill: #1967D2;\n",
       "      height: 32px;\n",
       "      padding: 0 0 0 0;\n",
       "      width: 32px;\n",
       "    }\n",
       "\n",
       "    .colab-df-convert:hover {\n",
       "      background-color: #E2EBFA;\n",
       "      box-shadow: 0px 1px 2px rgba(60, 64, 67, 0.3), 0px 1px 3px 1px rgba(60, 64, 67, 0.15);\n",
       "      fill: #174EA6;\n",
       "    }\n",
       "\n",
       "    .colab-df-buttons div {\n",
       "      margin-bottom: 4px;\n",
       "    }\n",
       "\n",
       "    [theme=dark] .colab-df-convert {\n",
       "      background-color: #3B4455;\n",
       "      fill: #D2E3FC;\n",
       "    }\n",
       "\n",
       "    [theme=dark] .colab-df-convert:hover {\n",
       "      background-color: #434B5C;\n",
       "      box-shadow: 0px 1px 3px 1px rgba(0, 0, 0, 0.15);\n",
       "      filter: drop-shadow(0px 1px 2px rgba(0, 0, 0, 0.3));\n",
       "      fill: #FFFFFF;\n",
       "    }\n",
       "  </style>\n",
       "\n",
       "    <script>\n",
       "      const buttonEl =\n",
       "        document.querySelector('#df-09d6580f-2442-4d73-bb28-cebba8b5bf3c button.colab-df-convert');\n",
       "      buttonEl.style.display =\n",
       "        google.colab.kernel.accessAllowed ? 'block' : 'none';\n",
       "\n",
       "      async function convertToInteractive(key) {\n",
       "        const element = document.querySelector('#df-09d6580f-2442-4d73-bb28-cebba8b5bf3c');\n",
       "        const dataTable =\n",
       "          await google.colab.kernel.invokeFunction('convertToInteractive',\n",
       "                                                    [key], {});\n",
       "        if (!dataTable) return;\n",
       "\n",
       "        const docLinkHtml = 'Like what you see? Visit the ' +\n",
       "          '<a target=\"_blank\" href=https://colab.research.google.com/notebooks/data_table.ipynb>data table notebook</a>'\n",
       "          + ' to learn more about interactive tables.';\n",
       "        element.innerHTML = '';\n",
       "        dataTable['output_type'] = 'display_data';\n",
       "        await google.colab.output.renderOutput(dataTable, element);\n",
       "        const docLink = document.createElement('div');\n",
       "        docLink.innerHTML = docLinkHtml;\n",
       "        element.appendChild(docLink);\n",
       "      }\n",
       "    </script>\n",
       "  </div>\n",
       "\n",
       "\n",
       "<div id=\"df-cc5d7b28-dbc2-4f36-b1a8-8bc3f9d04b1b\">\n",
       "  <button class=\"colab-df-quickchart\" onclick=\"quickchart('df-cc5d7b28-dbc2-4f36-b1a8-8bc3f9d04b1b')\"\n",
       "            title=\"Suggest charts\"\n",
       "            style=\"display:none;\">\n",
       "\n",
       "<svg xmlns=\"http://www.w3.org/2000/svg\" height=\"24px\"viewBox=\"0 0 24 24\"\n",
       "     width=\"24px\">\n",
       "    <g>\n",
       "        <path d=\"M19 3H5c-1.1 0-2 .9-2 2v14c0 1.1.9 2 2 2h14c1.1 0 2-.9 2-2V5c0-1.1-.9-2-2-2zM9 17H7v-7h2v7zm4 0h-2V7h2v10zm4 0h-2v-4h2v4z\"/>\n",
       "    </g>\n",
       "</svg>\n",
       "  </button>\n",
       "\n",
       "<style>\n",
       "  .colab-df-quickchart {\n",
       "      --bg-color: #E8F0FE;\n",
       "      --fill-color: #1967D2;\n",
       "      --hover-bg-color: #E2EBFA;\n",
       "      --hover-fill-color: #174EA6;\n",
       "      --disabled-fill-color: #AAA;\n",
       "      --disabled-bg-color: #DDD;\n",
       "  }\n",
       "\n",
       "  [theme=dark] .colab-df-quickchart {\n",
       "      --bg-color: #3B4455;\n",
       "      --fill-color: #D2E3FC;\n",
       "      --hover-bg-color: #434B5C;\n",
       "      --hover-fill-color: #FFFFFF;\n",
       "      --disabled-bg-color: #3B4455;\n",
       "      --disabled-fill-color: #666;\n",
       "  }\n",
       "\n",
       "  .colab-df-quickchart {\n",
       "    background-color: var(--bg-color);\n",
       "    border: none;\n",
       "    border-radius: 50%;\n",
       "    cursor: pointer;\n",
       "    display: none;\n",
       "    fill: var(--fill-color);\n",
       "    height: 32px;\n",
       "    padding: 0;\n",
       "    width: 32px;\n",
       "  }\n",
       "\n",
       "  .colab-df-quickchart:hover {\n",
       "    background-color: var(--hover-bg-color);\n",
       "    box-shadow: 0 1px 2px rgba(60, 64, 67, 0.3), 0 1px 3px 1px rgba(60, 64, 67, 0.15);\n",
       "    fill: var(--button-hover-fill-color);\n",
       "  }\n",
       "\n",
       "  .colab-df-quickchart-complete:disabled,\n",
       "  .colab-df-quickchart-complete:disabled:hover {\n",
       "    background-color: var(--disabled-bg-color);\n",
       "    fill: var(--disabled-fill-color);\n",
       "    box-shadow: none;\n",
       "  }\n",
       "\n",
       "  .colab-df-spinner {\n",
       "    border: 2px solid var(--fill-color);\n",
       "    border-color: transparent;\n",
       "    border-bottom-color: var(--fill-color);\n",
       "    animation:\n",
       "      spin 1s steps(1) infinite;\n",
       "  }\n",
       "\n",
       "  @keyframes spin {\n",
       "    0% {\n",
       "      border-color: transparent;\n",
       "      border-bottom-color: var(--fill-color);\n",
       "      border-left-color: var(--fill-color);\n",
       "    }\n",
       "    20% {\n",
       "      border-color: transparent;\n",
       "      border-left-color: var(--fill-color);\n",
       "      border-top-color: var(--fill-color);\n",
       "    }\n",
       "    30% {\n",
       "      border-color: transparent;\n",
       "      border-left-color: var(--fill-color);\n",
       "      border-top-color: var(--fill-color);\n",
       "      border-right-color: var(--fill-color);\n",
       "    }\n",
       "    40% {\n",
       "      border-color: transparent;\n",
       "      border-right-color: var(--fill-color);\n",
       "      border-top-color: var(--fill-color);\n",
       "    }\n",
       "    60% {\n",
       "      border-color: transparent;\n",
       "      border-right-color: var(--fill-color);\n",
       "    }\n",
       "    80% {\n",
       "      border-color: transparent;\n",
       "      border-right-color: var(--fill-color);\n",
       "      border-bottom-color: var(--fill-color);\n",
       "    }\n",
       "    90% {\n",
       "      border-color: transparent;\n",
       "      border-bottom-color: var(--fill-color);\n",
       "    }\n",
       "  }\n",
       "</style>\n",
       "\n",
       "  <script>\n",
       "    async function quickchart(key) {\n",
       "      const quickchartButtonEl =\n",
       "        document.querySelector('#' + key + ' button');\n",
       "      quickchartButtonEl.disabled = true;  // To prevent multiple clicks.\n",
       "      quickchartButtonEl.classList.add('colab-df-spinner');\n",
       "      try {\n",
       "        const charts = await google.colab.kernel.invokeFunction(\n",
       "            'suggestCharts', [key], {});\n",
       "      } catch (error) {\n",
       "        console.error('Error during call to suggestCharts:', error);\n",
       "      }\n",
       "      quickchartButtonEl.classList.remove('colab-df-spinner');\n",
       "      quickchartButtonEl.classList.add('colab-df-quickchart-complete');\n",
       "    }\n",
       "    (() => {\n",
       "      let quickchartButtonEl =\n",
       "        document.querySelector('#df-cc5d7b28-dbc2-4f36-b1a8-8bc3f9d04b1b button');\n",
       "      quickchartButtonEl.style.display =\n",
       "        google.colab.kernel.accessAllowed ? 'block' : 'none';\n",
       "    })();\n",
       "  </script>\n",
       "</div>\n",
       "\n",
       "    </div>\n",
       "  </div>\n"
      ],
      "text/plain": [
       "   word_freq_make:  word_freq_address:  word_freq_all:  word_freq_3d:  \\\n",
       "0             0.00                0.64            0.64            0.0   \n",
       "1             0.21                0.28            0.50            0.0   \n",
       "2             0.06                0.00            0.71            0.0   \n",
       "3             0.00                0.00            0.00            0.0   \n",
       "4             0.00                0.00            0.00            0.0   \n",
       "5             0.00                0.00            0.00            0.0   \n",
       "\n",
       "   word_freq_our:  word_freq_over:  word_freq_remove:  word_freq_internet:  \\\n",
       "0            0.32             0.00               0.00                 0.00   \n",
       "1            0.14             0.28               0.21                 0.07   \n",
       "2            1.23             0.19               0.19                 0.12   \n",
       "3            0.63             0.00               0.31                 0.63   \n",
       "4            0.63             0.00               0.31                 0.63   \n",
       "5            1.85             0.00               0.00                 1.85   \n",
       "\n",
       "   word_freq_order:  word_freq_mail:  ...  char_freq_;:  char_freq_(:  \\\n",
       "0              0.00             0.00  ...          0.00         0.000   \n",
       "1              0.00             0.94  ...          0.00         0.132   \n",
       "2              0.64             0.25  ...          0.01         0.143   \n",
       "3              0.31             0.63  ...          0.00         0.137   \n",
       "4              0.31             0.63  ...          0.00         0.135   \n",
       "5              0.00             0.00  ...          0.00         0.223   \n",
       "\n",
       "   char_freq_[:  char_freq_!:  char_freq_$:  char_freq_#:  \\\n",
       "0           0.0         0.778         0.000         0.000   \n",
       "1           0.0         0.372         0.180         0.048   \n",
       "2           0.0         0.276         0.184         0.010   \n",
       "3           0.0         0.137         0.000         0.000   \n",
       "4           0.0         0.135         0.000         0.000   \n",
       "5           0.0         0.000         0.000         0.000   \n",
       "\n",
       "   capital_run_length_average:  capital_run_length_longest:  \\\n",
       "0                        3.756                           61   \n",
       "1                        5.114                          101   \n",
       "2                        9.821                          485   \n",
       "3                        3.537                           40   \n",
       "4                        3.537                           40   \n",
       "5                        3.000                           15   \n",
       "\n",
       "   capital_run_length_total:  spam  \n",
       "0                        278     1  \n",
       "1                       1028     1  \n",
       "2                       2259     1  \n",
       "3                        191     1  \n",
       "4                        191     1  \n",
       "5                         54     1  \n",
       "\n",
       "[6 rows x 58 columns]"
      ]
     },
     "execution_count": 41,
     "metadata": {},
     "output_type": "execute_result"
    }
   ],
   "source": [
    "df = pd.read_csv(\"/content/spam_dataset.csv\")\n",
    "df.head(6)"
   ]
  },
  {
   "cell_type": "markdown",
   "metadata": {
    "id": "1Mz6BLXht7ML"
   },
   "source": [
    "B2 -- *Read through the documentation of the original dataset here: http://archive.ics.uci.edu/ml/machine-learning-databases/spambase/spambase.namesLinks to an external site.. The dependent variable is \"spam\" where one indicates that an email is spam and zero otherwise.  Which three variables in the dataset do you think will be important predictors in a model of spam?  Why?*\n",
    "\n",
    "I think frequency of the word \"free\" (word_freq_free) will be important in predicting spam. In my experience, spam emails offer enticing things like a \"free cruise\" or \"free car\" in order to get people to click on their links or offer up personal information.\n",
    "\n",
    "I also think frequency of exclamation marks (char_freq_!) will be important in predictimg spam because for similar reasons, the existence of many \"!\"s can help capture the attention of recipients to click on the email and entice them to participate.\n",
    "\n",
    "Lastly, I think the average run length of capital letters (capital_run_length_average) will help predict spam for the same readers - to catch the reader's attention and convey a sense of urgency."
   ]
  },
  {
   "cell_type": "markdown",
   "metadata": {
    "id": "FLPYYZCSwi8W"
   },
   "source": [
    "B3 -- *Visualize the univariate distribution of each of the variables in the previous question.*"
   ]
  },
  {
   "cell_type": "code",
   "execution_count": 42,
   "metadata": {
    "colab": {
     "base_uri": "https://localhost:8080/",
     "height": 472
    },
    "id": "BVJSHG5I4dg4",
    "outputId": "da885583-94f2-4162-b38a-d2469f403a75"
   },
   "outputs": [
    {
     "data": {
      "image/png": "[encoded data removed]",
      "text/plain": [
       "<Figure size 640x480 with 1 Axes>"
      ]
     },
     "metadata": {},
     "output_type": "display_data"
    }
   ],
   "source": [
    "#visualizing word_freq_free\n",
    "plt.hist(df['word_freq_free:'])\n",
    "plt.title('Distribution of Word Frequency of \"Free\"')\n",
    "plt.xlabel('Count of How Many Times \"Free\" Appears')\n",
    "plt.ylabel('Frequency')\n",
    "plt.grid(axis='y', alpha=0.75)\n",
    "plt.show()"
   ]
  },
  {
   "cell_type": "code",
   "execution_count": 43,
   "metadata": {
    "colab": {
     "base_uri": "https://localhost:8080/",
     "height": 472
    },
    "id": "Y-UX8RlP7qEZ",
    "outputId": "55eb5aa5-de27-4df3-fa7e-1282867873ba"
   },
   "outputs": [
    {
     "data": {
      "image/png": "[encoded data removed]",
      "text/plain": [
       "<Figure size 640x480 with 1 Axes>"
      ]
     },
     "metadata": {},
     "output_type": "display_data"
    }
   ],
   "source": [
    "#visualizing char_freq_!\n",
    "plt.hist(df['char_freq_!:'])\n",
    "plt.title('Distribution of Frequency of \"!\"')\n",
    "plt.xlabel('Count of How Many Times \"!\" Appears')\n",
    "plt.ylabel('Frequency')\n",
    "plt.grid(axis='y', alpha=0.75)\n",
    "plt.show()"
   ]
  },
  {
   "cell_type": "code",
   "execution_count": 44,
   "metadata": {
    "colab": {
     "base_uri": "https://localhost:8080/",
     "height": 472
    },
    "id": "ALcMBN668VWH",
    "outputId": "38bfba1e-1125-4425-af53-9977af342b85"
   },
   "outputs": [
    {
     "data": {
      "image/png": "[encoded data removed]",
      "text/plain": [
       "<Figure size 640x480 with 1 Axes>"
      ]
     },
     "metadata": {},
     "output_type": "display_data"
    }
   ],
   "source": [
    "#visualizing capital_run_length_average:\n",
    "plt.hist(df['capital_run_length_average:'])\n",
    "plt.title('Distribution of Average Capital Run Length')\n",
    "plt.xlabel('Average Capital Run Length')\n",
    "plt.ylabel('Frequency')\n",
    "plt.grid(axis='y', alpha=0.75)\n",
    "plt.show()"
   ]
  },
  {
   "cell_type": "markdown",
   "metadata": {
    "id": "W7HhyhBL8zQ-"
   },
   "source": [
    "B4 -- *Choose one model from Part A Question 4.  Split the data into training and test subsets.  Build a model with the three variables in the dataset that you think will be good predictors of \"spam\". Run the model and evaluate prediction error using k-fold cross-validation. Describe why you chose any particular parameters for your model (e.g., if you used KNN how did you decide to choose a specific value for k).*\n",
    "\n",
    "I will use KNN for this question."
   ]
  },
  {
   "cell_type": "code",
   "execution_count": 45,
   "metadata": {
    "id": "rzaf7vus9Vvq"
   },
   "outputs": [],
   "source": [
    "#First I will split the data into training and test subsets.\n",
    "y = df['spam']  # Target variable (spam)\n",
    "X = df[['word_freq_free:', 'char_freq_!:', 'capital_run_length_average:']]\n",
    "\n",
    "X_train, X_test, y_train, y_test = train_test_split(X, y, random_state=42)"
   ]
  },
  {
   "cell_type": "code",
   "execution_count": 46,
   "metadata": {
    "id": "OKghsKTIAHg8"
   },
   "outputs": [],
   "source": [
    "param_grid_knn = {\n",
    "    'n_neighbors': list(range(1, 16))  #setting range of neighbors param\n",
    "}"
   ]
  },
  {
   "cell_type": "code",
   "execution_count": 47,
   "metadata": {
    "id": "4rh1A2MlD7Gg"
   },
   "outputs": [],
   "source": [
    "from sklearn.metrics import f1_score, accuracy_score, classification_report"
   ]
  },
  {
   "cell_type": "code",
   "execution_count": 48,
   "metadata": {
    "colab": {
     "base_uri": "https://localhost:8080/"
    },
    "id": "c3ezUievAWyx",
    "outputId": "ea6cb8e1-843d-422a-f5e7-7d8ff8fbc559"
   },
   "outputs": [
    {
     "name": "stdout",
     "output_type": "stream",
     "text": [
      "\n",
      "Best parameters for KNN: {'n_neighbors': 9}\n",
      "Mean cross-validation F1 score for KNN: 0.784\n",
      "F1 Score on test set: 0.800\n"
     ]
    }
   ],
   "source": [
    "# Grid search for KNN\n",
    "knn = KNeighborsClassifier()\n",
    "grid_search_knn = GridSearchCV(knn, param_grid_knn, cv=5, scoring = 'f1')\n",
    "grid_search_knn.fit(X_train, y_train)\n",
    "\n",
    "# Best parameters and cross-validation score\n",
    "print(\"\\nBest parameters for KNN:\", grid_search_knn.best_params_)\n",
    "print(\"Mean cross-validation F1 score for KNN: {:.3f}\".format(np.mean(grid_search_knn.cv_results_['mean_test_score'])))\n",
    "\n",
    "# Make predictions on the test set\n",
    "y_pred = grid_search_knn.predict(X_test)\n",
    "\n",
    "# Calculate and print F1 score and accuracy on the test set\n",
    "f1 = f1_score(y_test, y_pred)\n",
    "\n",
    "print(\"F1 Score on test set: {:.3f}\".format(f1))\n"
   ]
  },
  {
   "cell_type": "markdown",
   "metadata": {
    "id": "GpqRVLx-CTof"
   },
   "source": [
    "I used gridsearchcv to tune my parameters (which ultimately found that using 9 nearest neighbors for classification was optimal for my model). I used F1 as scoring metric for the grid search (as this metric effectively balances precision and recall and is best for classification models). The average F1 score from the 5-fold cross-validation on the training set is .784 which shows the model is performing fairly well but of course could be better. When we compare our predicted y values (spam or not spam) based on the test set's x variable values to the actual y values of our test set, we get a F1 score of .8. Since these two F1 scores are similar, it shows that the model didn't overfit to the training data and instead generalizes pretty well to new data (in fact, performs slightly better on the test data).\n",
    "\n",
    "Next, I'll try the model with standard scaling."
   ]
  },
  {
   "cell_type": "code",
   "execution_count": 49,
   "metadata": {
    "id": "6F2qTAOqIrQa"
   },
   "outputs": [],
   "source": [
    "# Now I'll try the same model with standard scaling\n",
    "scaler2 = StandardScaler()\n",
    "X_train_scaled = scaler2.fit_transform(X_train)\n",
    "X_test_scaled = scaler2.transform(X_test)"
   ]
  },
  {
   "cell_type": "code",
   "execution_count": 50,
   "metadata": {
    "colab": {
     "base_uri": "https://localhost:8080/"
    },
    "id": "crvKn0gRIwVk",
    "outputId": "cc6ae89f-d03f-4e47-96da-d1c052871a0e"
   },
   "outputs": [
    {
     "name": "stdout",
     "output_type": "stream",
     "text": [
      "\n",
      "Best parameters for KNN: {'n_neighbors': 9}\n",
      "Mean cross-validation F1 score for KNN: 0.789\n",
      "F1 Score on test set: 0.798\n"
     ]
    }
   ],
   "source": [
    "# Grid search for KNN\n",
    "knn = KNeighborsClassifier()\n",
    "grid_search_knn = GridSearchCV(knn, param_grid_knn, cv=5, scoring = 'f1')\n",
    "grid_search_knn.fit(X_train_scaled, y_train)\n",
    "\n",
    "# Best parameters and cross-validation score\n",
    "print(\"\\nBest parameters for KNN:\", grid_search_knn.best_params_)\n",
    "print(\"Mean cross-validation F1 score for KNN: {:.3f}\".format(np.mean(grid_search_knn.cv_results_['mean_test_score'])))\n",
    "\n",
    "# Make predictions on the test set\n",
    "y_pred = grid_search_knn.predict(X_test_scaled)\n",
    "\n",
    "# Calculate and print F1 score and accuracy on the test set\n",
    "f1 = f1_score(y_test, y_pred)\n",
    "\n",
    "print(\"F1 Score on test set: {:.3f}\".format(f1))\n"
   ]
  },
  {
   "cell_type": "markdown",
   "metadata": {
    "id": "3ACZvI3JFKHp"
   },
   "source": [
    "Standard scaling for this KNN model slightly improved mean cross validation F1 score on the training set but slightly worsened the test set score, so I don't think scaling helped much here."
   ]
  },
  {
   "cell_type": "markdown",
   "metadata": {
    "id": "UBNeb4NqJub3"
   },
   "source": [
    "B5 -- *Repeat the previous question but with a different model from Part A Question 4.*\n",
    "\n",
    "Next I will use a logistic regression model (unpenalized)."
   ]
  },
  {
   "cell_type": "code",
   "execution_count": 51,
   "metadata": {
    "id": "x7zLTTaVKWxi"
   },
   "outputs": [],
   "source": [
    "from sklearn.linear_model import LogisticRegression\n",
    "from sklearn.metrics import mean_squared_error, make_scorer"
   ]
  },
  {
   "cell_type": "code",
   "execution_count": 52,
   "metadata": {
    "colab": {
     "base_uri": "https://localhost:8080/"
    },
    "id": "pQfWPmW1KnFm",
    "outputId": "b38a6a9b-1744-4403-cf2c-d5ef8ab4b2cd"
   },
   "outputs": [
    {
     "name": "stdout",
     "output_type": "stream",
     "text": [
      "No penalty:\n",
      "Mean cross-validation F1 score: 0.682\n",
      "Test set F1 score: 0.698\n"
     ]
    }
   ],
   "source": [
    "# Define the non-penalized logistic regression model\n",
    "logreg_no_penalty = LogisticRegression(penalty=None, max_iter=10000)\n",
    "\n",
    "# Cross-validation using F1 score\n",
    "cv_scores_no_penalty = cross_val_score(logreg_no_penalty, X_train, y_train, cv=10, scoring='f1')\n",
    "\n",
    "# Fit the model on the training data\n",
    "logreg_no_penalty.fit(X_train, y_train)\n",
    "\n",
    "# Make predictions on the test set\n",
    "y_pred = logreg_no_penalty.predict(X_test)\n",
    "\n",
    "# Calculate F1 score on the test set\n",
    "test_f1 = f1_score(y_test, y_pred)\n",
    "\n",
    "print(\"No penalty:\")\n",
    "print(\"Mean cross-validation F1 score: {:.3f}\".format(np.mean(cv_scores_no_penalty)))\n",
    "print(\"Test set F1 score: {:.3f}\".format(test_f1))"
   ]
  },
  {
   "cell_type": "markdown",
   "metadata": {
    "id": "0Bv5potKBnLJ"
   },
   "source": [
    "While the F1 score could definitely be higher here, at least we see consistency. The mean cross validation F1 score (average across the 10 fold cross validation on the training data) is similar to the test set F1 score. Actually, the test set F1 score improves slightly, showing that at least the model didn't overfit on the training data, and instead it generalizes just as well if not better to new data.\n",
    "\n",
    "Now I will try penalized logistic regression. I will use grid search cv to tell my the optimal parameters for my penalty (i.e. l1 or l2 penalty, and what value of C)."
   ]
  },
  {
   "cell_type": "code",
   "execution_count": 53,
   "metadata": {
    "colab": {
     "base_uri": "https://localhost:8080/"
    },
    "id": "iyJL9yMQBHKr",
    "outputId": "33f3b4b3-5882-46b0-b7a1-e9c8d4e34a4c"
   },
   "outputs": [
    {
     "name": "stdout",
     "output_type": "stream",
     "text": [
      "Best parameters from Grid Search: {'C': 10, 'penalty': 'l1'}\n",
      "\n",
      "Penalized model with optimal C and penalty:\n",
      "Mean cross-validation F1 score: 0.658\n",
      "Test set F1 score: 0.696\n"
     ]
    }
   ],
   "source": [
    "# Define the model (you can try both 'l1' and 'l2' penalties)\n",
    "logreg_penalized = LogisticRegression(solver='liblinear', max_iter=10000)\n",
    "\n",
    "# Defining the parameter grid for C values\n",
    "param_grid = {'C': [0.001, 0.01, 0.1, 1, 10, 100], 'penalty': ['l1', 'l2']}\n",
    "\n",
    "# Perform Grid Search with cross-validation\n",
    "grid_search = GridSearchCV(logreg_penalized, param_grid, cv=10, scoring='f1')\n",
    "grid_search.fit(X_train, y_train)\n",
    "\n",
    "print(\"Best parameters from Grid Search:\", grid_search.best_params_)\n",
    "\n",
    "mean_cv_f1_score = np.mean(grid_search.cv_results_['mean_test_score'])\n",
    "\n",
    "# Make predictions using the best estimator\n",
    "best_logreg = grid_search.best_estimator_\n",
    "y_pred = best_logreg.predict(X_test)\n",
    "\n",
    "# Calculate F1 score on the test set\n",
    "test_f1 = f1_score(y_test, y_pred)\n",
    "\n",
    "print(\"\\nPenalized model with optimal C and penalty:\")\n",
    "# Calculate mean cross-validation F1 score\n",
    "print(\"Mean cross-validation F1 score: {:.3f}\".format(mean_cv_f1_score))\n",
    "print(\"Test set F1 score: {:.3f}\".format(test_f1))"
   ]
  },
  {
   "cell_type": "markdown",
   "metadata": {
    "id": "iWsk50iRGsbV"
   },
   "source": [
    "We actually see that even with optimized parameters for the penalized logistic regression, the model performs worse here on average on the training set cross validation F1 scores and performs the same as before on the test data so it doesn't seem like penalized logistic regression is necessary here."
   ]
  },
  {
   "cell_type": "markdown",
   "metadata": {
    "id": "V_9klGW4ItqK"
   },
   "source": [
    "B6 -- *Repeat the previous question but with a different model from Part A Question 4.*\n",
    "\n",
    "Next I will use a Support Vector Machine model, using grid cv to tune the C parameter."
   ]
  },
  {
   "cell_type": "code",
   "execution_count": 54,
   "metadata": {
    "colab": {
     "base_uri": "https://localhost:8080/"
    },
    "id": "pcipPHvgL51e",
    "outputId": "b7cf61ec-f4aa-4291-a237-d56f91988cb6"
   },
   "outputs": [
    {
     "name": "stdout",
     "output_type": "stream",
     "text": [
      "Best parameters from Grid Search: {'C': 100}\n",
      "\n",
      "SVM model with optimal C:\n",
      "Mean cross-validation F1 score: 0.670\n",
      "Test set F1 score: 0.739\n"
     ]
    }
   ],
   "source": [
    "from sklearn.svm import SVC\n",
    "\n",
    "# Define the SVM model\n",
    "svm_model = SVC(kernel='linear')  # Using linear kernel for now\n",
    "\n",
    "# Define the parameter grid for C values\n",
    "param_grid_svm = {'C': [0.001, 0.01, 0.1, 1, 10, 100]}\n",
    "\n",
    "# Perform Grid Search with cross-validation\n",
    "grid_search_svm = GridSearchCV(svm_model, param_grid_svm, cv=10, scoring='f1')\n",
    "grid_search_svm.fit(X_train, y_train)\n",
    "\n",
    "# Best parameters from grid search\n",
    "print(\"Best parameters from Grid Search:\", grid_search_svm.best_params_)\n",
    "\n",
    "# Calculate mean cross-validation F1 score\n",
    "mean_cv_f1_score = np.mean(grid_search_svm.cv_results_['mean_test_score'])\n",
    "\n",
    "# Make predictions using the best estimator\n",
    "best_svm = grid_search_svm.best_estimator_\n",
    "y_pred = best_svm.predict(X_test)\n",
    "\n",
    "test_f1 = f1_score(y_test, y_pred)\n",
    "\n",
    "print(\"\\nSVM model with optimal C:\")\n",
    "print(\"Mean cross-validation F1 score: {:.3f}\".format(mean_cv_f1_score))\n",
    "print(\"Test set F1 score: {:.3f}\".format(test_f1))"
   ]
  },
  {
   "cell_type": "markdown",
   "metadata": {
    "id": "xHSbdzE1Xp2F"
   },
   "source": [
    "Grid Search cv tuned the C parameter to be quite high here (100), meaning that this SVM model is strict about misclassifications, leading to narrower margins. The fear with a high C value is that the model might be too strict and overfit on the training data, but that actually doesn't seem to be the case here. It looks like the model performs even better on our test data than on our cross validated training data. Again, the F1 score could be higher but at least it doesn't seem that we're overfitting with this model."
   ]
  },
  {
   "cell_type": "markdown",
   "metadata": {
    "id": "f9SGHax3ciDa"
   },
   "source": [
    "B7 -- *Repeat the previous question but with a different model from Part A Question 4.*\n",
    "\n",
    "Lastly, I will look at decision tree and random forest classification"
   ]
  },
  {
   "cell_type": "code",
   "execution_count": 55,
   "metadata": {
    "colab": {
     "base_uri": "https://localhost:8080/"
    },
    "id": "kaa-39tIcqFp",
    "outputId": "8b59327e-e588-42c2-f7c0-97686fda3cc5"
   },
   "outputs": [
    {
     "name": "stdout",
     "output_type": "stream",
     "text": [
      "Decision Tree Mean Cross-Validation F1 Score: 0.774\n",
      "Decision Tree F1 Score on test set: 0.783\n"
     ]
    }
   ],
   "source": [
    "from sklearn.tree import DecisionTreeClassifier\n",
    "\n",
    "# Looking at decision tree first\n",
    "tree = DecisionTreeClassifier()\n",
    "\n",
    "# Perform cross-validation to get the F1 score\n",
    "cv_scores_tree = cross_val_score(tree, X_train, y_train, cv=10, scoring='f1')  # 10-fold cross-validation\n",
    "\n",
    "# Fit the model on the training data\n",
    "tree.fit(X_train, y_train)\n",
    "\n",
    "# Make predictions on the test set\n",
    "y_pred_tree = tree.predict(X_test)\n",
    "\n",
    "# Calculate the F1 score on the test set\n",
    "f1_tree = f1_score(y_test, y_pred_tree)\n",
    "\n",
    "print(\"Decision Tree Mean Cross-Validation F1 Score: {:.3f}\".format(np.mean(cv_scores_tree)))\n",
    "print(\"Decision Tree F1 Score on test set: {:.3f}\".format(f1_tree))"
   ]
  },
  {
   "cell_type": "code",
   "execution_count": 56,
   "metadata": {
    "colab": {
     "base_uri": "https://localhost:8080/"
    },
    "id": "j7CNfq9LdMIz",
    "outputId": "8d480fab-1ed4-4557-8f79-a23590fc7d7d"
   },
   "outputs": [
    {
     "name": "stdout",
     "output_type": "stream",
     "text": [
      "Random Forest Mean Cross-Validation F1 Score: 0.804\n",
      "Random Forest F1 Score on test set: 0.820\n"
     ]
    }
   ],
   "source": [
    "from sklearn.ensemble import RandomForestClassifier\n",
    "\n",
    "# Now looking at random forests\n",
    "rf = RandomForestClassifier()\n",
    "\n",
    "# Perform cross-validation to get the F1 score\n",
    "cv_scores_rf = cross_val_score(rf, X_train, y_train, cv=10, scoring='f1')  # 10-fold cross-validation\n",
    "\n",
    "# Fit the model on the training data\n",
    "rf.fit(X_train, y_train)\n",
    "\n",
    "# Make predictions on the test set\n",
    "y_pred_rf = rf.predict(X_test)\n",
    "\n",
    "# Calculate the F1 score on the test set\n",
    "f1_rf = f1_score(y_test, y_pred_rf)\n",
    "\n",
    "print(\"Random Forest Mean Cross-Validation F1 Score: {:.3f}\".format(np.mean(cv_scores_rf)))\n",
    "print(\"Random Forest F1 Score on test set: {:.3f}\".format(f1_rf))"
   ]
  },
  {
   "cell_type": "markdown",
   "metadata": {
    "id": "FK3bb8BLezG2"
   },
   "source": [
    "Now I'll try tuning a few random forest parameters to see if it makes a difference."
   ]
  },
  {
   "cell_type": "code",
   "execution_count": 57,
   "metadata": {
    "colab": {
     "base_uri": "https://localhost:8080/"
    },
    "id": "MhLudusHfGOh",
    "outputId": "c9d0c425-7f5a-4b62-f76c-c57ed94509da"
   },
   "outputs": [
    {
     "name": "stdout",
     "output_type": "stream",
     "text": [
      "Best parameters for Random Forest: {'max_depth': 30, 'min_samples_leaf': 2, 'n_estimators': 300}\n",
      "Mean cross-validation F1 score on training set: 0.912\n",
      "F1 Score on test set: 0.824\n"
     ]
    }
   ],
   "source": [
    "# Set up the parameter grid\n",
    "param_grid_rf = {\n",
    "    'n_estimators': [100, 200, 300],\n",
    "    'max_depth': [None, 10, 20, 30],\n",
    "    'min_samples_leaf': [1, 2, 4]\n",
    "}\n",
    "\n",
    "# Initialize Grid Search\n",
    "grid_search_rf = GridSearchCV(RandomForestClassifier(), param_grid_rf, cv=5, scoring='f1', return_train_score=True)\n",
    "grid_search_rf.fit(X_train, y_train)\n",
    "\n",
    "# Best parameters\n",
    "print(\"Best parameters for Random Forest:\", grid_search_rf.best_params_)\n",
    "\n",
    "# Mean cross-validation F1 score from the training set\n",
    "mean_cv_f1_train = np.mean(grid_search_rf.cv_results_['mean_train_score'])\n",
    "print(\"Mean cross-validation F1 score on training set: {:.3f}\".format(mean_cv_f1_train))\n",
    "\n",
    "# Initialize the Random Forest classifier with the best parameters\n",
    "best_rf = grid_search_rf.best_estimator_\n",
    "\n",
    "# Make predictions on the test set\n",
    "y_pred_test = best_rf.predict(X_test)\n",
    "\n",
    "# Calculate F1 score on the test set\n",
    "test_f1_rf = f1_score(y_test, y_pred_test)\n",
    "\n",
    "# Print the F1 score for the test set\n",
    "print(\"F1 Score on test set: {:.3f}\".format(test_f1_rf))"
   ]
  },
  {
   "cell_type": "markdown",
   "metadata": {
    "id": "dbNHHiBggJlz"
   },
   "source": [
    "As expected, the random forest model performed better than the simple decision tree model. I tried tuning a few parameters, like n_estimators (number of trees the model generates), max_depth (number of times the internal nodes are split) and min_samples_leaf (which is the minimum number of observations per terminal node) and that seemed to significantly help the F1 score for cross validated averaged model on the training set but did not improve the model's F1 score on the test set very significantly."
   ]
  },
  {
   "cell_type": "markdown",
   "metadata": {
    "id": "PZ3x5IkDnR4h"
   },
   "source": [
    "B8 -- *Now rerun all 4 models with 3 additional variables that you think will help the prediction accuracy. Did this cause the performance to improve over your previous models?*"
   ]
  },
  {
   "cell_type": "markdown",
   "metadata": {
    "id": "11DiJmdXo5Oc"
   },
   "source": [
    "Now I will include variables word_freq_money, word_freq_000, and char_freq_$"
   ]
  },
  {
   "cell_type": "code",
   "execution_count": 58,
   "metadata": {
    "id": "dReK-Jajo4Ha"
   },
   "outputs": [],
   "source": [
    "#redefining x variables now to include 3 additional variables and reproducing training and test data with these variables\n",
    "y = df['spam']  # Target variable (spam)\n",
    "X = df[['word_freq_free:', 'char_freq_!:', 'capital_run_length_average:', 'word_freq_money:', 'word_freq_000:', 'char_freq_$:']]\n",
    "\n",
    "X_train, X_test, y_train, y_test = train_test_split(X, y, random_state=42)"
   ]
  },
  {
   "cell_type": "code",
   "execution_count": 59,
   "metadata": {
    "colab": {
     "base_uri": "https://localhost:8080/"
    },
    "id": "fm7ARZ30qHa9",
    "outputId": "7604a889-4478-4415-e885-e13a1f636309"
   },
   "outputs": [
    {
     "name": "stdout",
     "output_type": "stream",
     "text": [
      "\n",
      "Best parameters for KNN: {'n_neighbors': 5}\n",
      "Mean cross-validation F1 score for KNN: 0.813\n",
      "F1 Score on test set: 0.849\n"
     ]
    }
   ],
   "source": [
    "# Grid search for KNN\n",
    "knn = KNeighborsClassifier()\n",
    "grid_search_knn = GridSearchCV(knn, param_grid_knn, cv=5, scoring = 'f1')\n",
    "grid_search_knn.fit(X_train, y_train)\n",
    "\n",
    "# Best parameters and cross-validation score\n",
    "print(\"\\nBest parameters for KNN:\", grid_search_knn.best_params_)\n",
    "print(\"Mean cross-validation F1 score for KNN: {:.3f}\".format(np.mean(grid_search_knn.cv_results_['mean_test_score'])))\n",
    "\n",
    "# Make predictions on the test set\n",
    "y_pred = grid_search_knn.predict(X_test)\n",
    "\n",
    "# Calculate and print F1 score and accuracy on the test set\n",
    "f1 = f1_score(y_test, y_pred)\n",
    "\n",
    "print(\"F1 Score on test set: {:.3f}\".format(f1))"
   ]
  },
  {
   "cell_type": "code",
   "execution_count": 60,
   "metadata": {
    "colab": {
     "base_uri": "https://localhost:8080/"
    },
    "id": "SjBKfnk_qWyp",
    "outputId": "051e48ba-1e96-4339-ea50-c292299f4335"
   },
   "outputs": [
    {
     "name": "stdout",
     "output_type": "stream",
     "text": [
      "No penalty:\n",
      "Mean cross-validation F1 score: 0.774\n",
      "Test set F1 score: 0.786\n"
     ]
    }
   ],
   "source": [
    "# Define the non-penalized logistic regression model\n",
    "logreg_no_penalty = LogisticRegression(penalty=None, max_iter=10000)\n",
    "\n",
    "# Cross-validation using F1 score\n",
    "cv_scores_no_penalty = cross_val_score(logreg_no_penalty, X_train, y_train, cv=10, scoring='f1')\n",
    "\n",
    "# Fit the model on the training data\n",
    "logreg_no_penalty.fit(X_train, y_train)\n",
    "\n",
    "# Make predictions on the test set\n",
    "y_pred = logreg_no_penalty.predict(X_test)\n",
    "\n",
    "# Calculate F1 score on the test set\n",
    "test_f1 = f1_score(y_test, y_pred)\n",
    "\n",
    "print(\"No penalty:\")\n",
    "print(\"Mean cross-validation F1 score: {:.3f}\".format(np.mean(cv_scores_no_penalty)))\n",
    "print(\"Test set F1 score: {:.3f}\".format(test_f1))"
   ]
  },
  {
   "cell_type": "code",
   "execution_count": 61,
   "metadata": {
    "colab": {
     "base_uri": "https://localhost:8080/"
    },
    "id": "HO-MkTVDqiWz",
    "outputId": "696627f8-e701-4764-d456-8a125f7ada0b"
   },
   "outputs": [
    {
     "name": "stdout",
     "output_type": "stream",
     "text": [
      "Best parameters from Grid Search: {'C': 100}\n",
      "\n",
      "SVM model with optimal C:\n",
      "Mean cross-validation F1 score: 0.737\n",
      "Test set F1 score: 0.811\n"
     ]
    }
   ],
   "source": [
    "# Define the SVM model\n",
    "svm_model = SVC(kernel='linear')  # Using linear kernel for now\n",
    "\n",
    "# Define the parameter grid for C values\n",
    "param_grid_svm = {'C': [0.001, 0.01, 0.1, 1, 10, 100]}\n",
    "\n",
    "# Perform Grid Search with cross-validation\n",
    "grid_search_svm = GridSearchCV(svm_model, param_grid_svm, cv=10, scoring='f1')\n",
    "grid_search_svm.fit(X_train, y_train)\n",
    "\n",
    "# Best parameters from grid search\n",
    "print(\"Best parameters from Grid Search:\", grid_search_svm.best_params_)\n",
    "\n",
    "# Calculate mean cross-validation F1 score\n",
    "mean_cv_f1_score = np.mean(grid_search_svm.cv_results_['mean_test_score'])\n",
    "\n",
    "# Make predictions using the best estimator\n",
    "best_svm = grid_search_svm.best_estimator_\n",
    "y_pred = best_svm.predict(X_test)\n",
    "\n",
    "test_f1 = f1_score(y_test, y_pred)\n",
    "\n",
    "print(\"\\nSVM model with optimal C:\")\n",
    "print(\"Mean cross-validation F1 score: {:.3f}\".format(mean_cv_f1_score))\n",
    "print(\"Test set F1 score: {:.3f}\".format(test_f1))"
   ]
  },
  {
   "cell_type": "code",
   "execution_count": 62,
   "metadata": {
    "colab": {
     "base_uri": "https://localhost:8080/"
    },
    "id": "erBzJiHcrCGl",
    "outputId": "7e2bccd3-c69d-453d-8542-ccdd9056440b"
   },
   "outputs": [
    {
     "name": "stdout",
     "output_type": "stream",
     "text": [
      "Random Forest Mean Cross-Validation F1 Score: 0.850\n",
      "Random Forest F1 Score on test set: 0.855\n"
     ]
    }
   ],
   "source": [
    "rf = RandomForestClassifier()\n",
    "\n",
    "# Perform cross-validation to get the F1 score\n",
    "cv_scores_rf = cross_val_score(rf, X_train, y_train, cv=10, scoring='f1')  # 10-fold cross-validation\n",
    "\n",
    "# Fit the model on the training data\n",
    "rf.fit(X_train, y_train)\n",
    "\n",
    "# Make predictions on the test set\n",
    "y_pred_rf = rf.predict(X_test)\n",
    "\n",
    "# Calculate the F1 score on the test set\n",
    "f1_rf = f1_score(y_test, y_pred_rf)\n",
    "\n",
    "print(\"Random Forest Mean Cross-Validation F1 Score: {:.3f}\".format(np.mean(cv_scores_rf)))\n",
    "print(\"Random Forest F1 Score on test set: {:.3f}\".format(f1_rf))"
   ]
  },
  {
   "cell_type": "markdown",
   "metadata": {
    "id": "bSojXzZwrluj"
   },
   "source": [
    "Yes, overall, adding these extra variables did tend to bump up the F1 score for all the models, adding an extra .03 to .1 to the F1 scores, showing that the variables helped the models' performance while balancing precision and recall."
   ]
  },
  {
   "cell_type": "markdown",
   "metadata": {
    "id": "QduNPmMFsbUA"
   },
   "source": [
    "B9 -- *What is a variable that isn't available in this dataset but you think could increase your final model's predictive power if you had it? Why do you think it would improve your model?*\n",
    "\n",
    "I think the word frequency of \".com\" or some sort of link detection would be helpful to detect spam because I think many spam emails want you to click on a link to the input personal information or to buy something through that link.\n",
    "\n",
    "I also think something like word frequency of \"today\" might be helpful because as I explained above, I think spammers want to convey a sense of urgency so the recipient will act without delay and maybe without double checking the validity of the source."
   ]
  }
 ],
 "metadata": {
  "colab": {
   "provenance": []
  },
  "kernelspec": {
   "display_name": "Python 3 (ipykernel)",
   "language": "python",
   "name": "python3"
  },
  "language_info": {
   "codemirror_mode": {
    "name": "ipython",
    "version": 3
   },
   "file_extension": ".py",
   "mimetype": "text/x-python",
   "name": "python",
   "nbconvert_exporter": "python",
   "pygments_lexer": "ipython3",
   "version": "3.12.4"
  }
 },
 "nbformat": 4,
 "nbformat_minor": 4
}
